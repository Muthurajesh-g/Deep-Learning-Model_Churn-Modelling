{
  "nbformat": 4,
  "nbformat_minor": 0,
  "metadata": {
    "colab": {
      "name": "Churn Modelling for a bank using ANN.ipynb",
      "provenance": [],
      "collapsed_sections": []
    },
    "kernelspec": {
      "name": "python3",
      "display_name": "Python 3"
    }
  },
  "cells": [
    {
      "cell_type": "markdown",
      "metadata": {
        "id": "E7k2vAdnNq0I"
      },
      "source": [
        "# **CHURN MODELLING FOR A BANK USING ARTIFICIAL NEURAL NETWORK**"
      ]
    },
    {
      "cell_type": "markdown",
      "metadata": {
        "id": "Dtr_lAuROA0_"
      },
      "source": [
        "IMPORTING THE LIBRARIES"
      ]
    },
    {
      "cell_type": "code",
      "metadata": {
        "id": "Kw0561NYOLms"
      },
      "source": [
        "import numpy as np\n",
        "import pandas as pd\n",
        "import tensorflow as tf"
      ],
      "execution_count": 1,
      "outputs": []
    },
    {
      "cell_type": "code",
      "metadata": {
        "id": "2NOE0FYiOQV0",
        "outputId": "33e3e107-601a-40a1-e6b4-d43e73fa855c",
        "colab": {
          "base_uri": "https://localhost:8080/",
          "height": 36
        }
      },
      "source": [
        "tf.__version__"
      ],
      "execution_count": 2,
      "outputs": [
        {
          "output_type": "execute_result",
          "data": {
            "application/vnd.google.colaboratory.intrinsic+json": {
              "type": "string"
            },
            "text/plain": [
              "'2.3.0'"
            ]
          },
          "metadata": {
            "tags": []
          },
          "execution_count": 2
        }
      ]
    },
    {
      "cell_type": "markdown",
      "metadata": {
        "id": "t3Tok0qYObj6"
      },
      "source": [
        "### **PART 1 - DATA PREPROCESSING**"
      ]
    },
    {
      "cell_type": "markdown",
      "metadata": {
        "id": "oBsGXXgcOkEi"
      },
      "source": [
        "IMPORTING THE DATASET"
      ]
    },
    {
      "cell_type": "code",
      "metadata": {
        "id": "jEjXE3chOo7w"
      },
      "source": [
        "dataset = pd.read_csv('Churn_Modelling.csv')\n",
        "X = dataset.iloc[:, 2:-1].values\n",
        "y = dataset.iloc[:, -1].values"
      ],
      "execution_count": 3,
      "outputs": []
    },
    {
      "cell_type": "code",
      "metadata": {
        "id": "Ay06rlAfOwG0",
        "outputId": "4f4c08ec-8b7f-485d-8c2a-62ee9de2c629",
        "colab": {
          "base_uri": "https://localhost:8080/"
        }
      },
      "source": [
        "print(X)"
      ],
      "execution_count": 4,
      "outputs": [
        {
          "output_type": "stream",
          "text": [
            "[[619 'Delhi' 'Female' ... 1 1 101348.88]\n",
            " [608 'Mumbai' 'Female' ... 0 1 112542.58]\n",
            " [502 'Delhi' 'Female' ... 1 0 113931.57]\n",
            " ...\n",
            " [709 'Delhi' 'Female' ... 0 1 42085.58]\n",
            " [772 'Chennai' 'Male' ... 1 0 92888.52]\n",
            " [792 'Delhi' 'Female' ... 1 0 38190.78]]\n"
          ],
          "name": "stdout"
        }
      ]
    },
    {
      "cell_type": "code",
      "metadata": {
        "id": "e-UW6Rq7O0T2",
        "outputId": "c55d8565-738a-4576-e040-adeff057351b",
        "colab": {
          "base_uri": "https://localhost:8080/"
        }
      },
      "source": [
        "print(y)"
      ],
      "execution_count": 5,
      "outputs": [
        {
          "output_type": "stream",
          "text": [
            "[1 0 1 ... 1 1 0]\n"
          ],
          "name": "stdout"
        }
      ]
    },
    {
      "cell_type": "markdown",
      "metadata": {
        "id": "y_69ehOUPE1b"
      },
      "source": [
        "ENCODING CATEGORICAL DATA"
      ]
    },
    {
      "cell_type": "markdown",
      "metadata": {
        "id": "MNGZoViyPLiW"
      },
      "source": [
        "LABEL ENCODING THE \"GENDER\" COLUMN"
      ]
    },
    {
      "cell_type": "code",
      "metadata": {
        "id": "8fd58WgzPVlf"
      },
      "source": [
        "from sklearn.preprocessing import LabelEncoder\n",
        "le = LabelEncoder()\n",
        "X[:, 2] = le.fit_transform(X[:, 2])"
      ],
      "execution_count": 6,
      "outputs": []
    },
    {
      "cell_type": "code",
      "metadata": {
        "id": "DkJpcYcsPaAW",
        "outputId": "8fa920ec-f50d-4990-e4f7-75125a435403",
        "colab": {
          "base_uri": "https://localhost:8080/"
        }
      },
      "source": [
        "print(X)"
      ],
      "execution_count": 7,
      "outputs": [
        {
          "output_type": "stream",
          "text": [
            "[[619 'Delhi' 0 ... 1 1 101348.88]\n",
            " [608 'Mumbai' 0 ... 0 1 112542.58]\n",
            " [502 'Delhi' 0 ... 1 0 113931.57]\n",
            " ...\n",
            " [709 'Delhi' 0 ... 0 1 42085.58]\n",
            " [772 'Chennai' 1 ... 1 0 92888.52]\n",
            " [792 'Delhi' 0 ... 1 0 38190.78]]\n"
          ],
          "name": "stdout"
        }
      ]
    },
    {
      "cell_type": "markdown",
      "metadata": {
        "id": "cLybu3hpPizi"
      },
      "source": [
        "ONE HOT ENCODING THE \"GEOGRAPHY\" COLUMN"
      ]
    },
    {
      "cell_type": "code",
      "metadata": {
        "id": "-s4hgMqzPn3E"
      },
      "source": [
        "from sklearn.compose import ColumnTransformer\n",
        "from sklearn.preprocessing import OneHotEncoder\n",
        "ct = ColumnTransformer(transformers=[('encoder', OneHotEncoder(), [1])], remainder='passthrough')\n",
        "X = np.array(ct.fit_transform(X))"
      ],
      "execution_count": 8,
      "outputs": []
    },
    {
      "cell_type": "code",
      "metadata": {
        "id": "61vxgduyP0l4",
        "outputId": "b856687f-52ad-453c-ae32-da4a1b0a705f",
        "colab": {
          "base_uri": "https://localhost:8080/"
        }
      },
      "source": [
        "print(X)"
      ],
      "execution_count": 9,
      "outputs": [
        {
          "output_type": "stream",
          "text": [
            "[[0.0 1.0 0.0 ... 1 1 101348.88]\n",
            " [0.0 0.0 1.0 ... 0 1 112542.58]\n",
            " [0.0 1.0 0.0 ... 1 0 113931.57]\n",
            " ...\n",
            " [0.0 1.0 0.0 ... 0 1 42085.58]\n",
            " [1.0 0.0 0.0 ... 1 0 92888.52]\n",
            " [0.0 1.0 0.0 ... 1 0 38190.78]]\n"
          ],
          "name": "stdout"
        }
      ]
    },
    {
      "cell_type": "markdown",
      "metadata": {
        "id": "b8NHy4i8QCZb"
      },
      "source": [
        "SPLITTING THE DATASET INTO THE TRAINING SET AND TEST SET"
      ]
    },
    {
      "cell_type": "code",
      "metadata": {
        "id": "N4a-GSlFQI8v"
      },
      "source": [
        "from sklearn.model_selection import train_test_split\n",
        "X_train, X_test, y_train, y_test = train_test_split(X, y, test_size = 0.2, random_state = 0)"
      ],
      "execution_count": 10,
      "outputs": []
    },
    {
      "cell_type": "markdown",
      "metadata": {
        "id": "joNTWJQ6QWZs"
      },
      "source": [
        "FEATURE SCALING"
      ]
    },
    {
      "cell_type": "code",
      "metadata": {
        "id": "zDuNILMNQaA6"
      },
      "source": [
        "from sklearn.preprocessing import StandardScaler\n",
        "sc = StandardScaler()\n",
        "X_train = sc.fit_transform(X_train)\n",
        "X_test = sc.transform(X_test)"
      ],
      "execution_count": 11,
      "outputs": []
    },
    {
      "cell_type": "markdown",
      "metadata": {
        "id": "T0rQ3hZAQf0h"
      },
      "source": [
        "## **PART 2 - BUILDING THE ANN**"
      ]
    },
    {
      "cell_type": "markdown",
      "metadata": {
        "id": "RW5xGDisQm5x"
      },
      "source": [
        "INITIALIZING THE ANN"
      ]
    },
    {
      "cell_type": "code",
      "metadata": {
        "id": "jK6-PH3sQsh1"
      },
      "source": [
        "ann = tf.keras.models.Sequential()"
      ],
      "execution_count": 12,
      "outputs": []
    },
    {
      "cell_type": "markdown",
      "metadata": {
        "id": "VsQrpo2bQzn7"
      },
      "source": [
        "ADDING THE INPUT LAYER AND THE FIRST HIDDEN LAYER"
      ]
    },
    {
      "cell_type": "code",
      "metadata": {
        "id": "qFJj2IY4Q6E_"
      },
      "source": [
        "ann.add(tf.keras.layers.Dense(units=6, activation='relu'))"
      ],
      "execution_count": 13,
      "outputs": []
    },
    {
      "cell_type": "markdown",
      "metadata": {
        "id": "MaF3xPGDQ96m"
      },
      "source": [
        "ADDING THE SECOND HIDDEN LAYER"
      ]
    },
    {
      "cell_type": "code",
      "metadata": {
        "id": "6EAyMDesRFKz"
      },
      "source": [
        "ann.add(tf.keras.layers.Dense(units=6, activation='relu'))"
      ],
      "execution_count": 14,
      "outputs": []
    },
    {
      "cell_type": "markdown",
      "metadata": {
        "id": "Y7D6YEoSRHCR"
      },
      "source": [
        "ADDING THE OUTPUT LAYER"
      ]
    },
    {
      "cell_type": "code",
      "metadata": {
        "id": "a9km08LDRJ4Q"
      },
      "source": [
        "ann.add(tf.keras.layers.Dense(units=1, activation='sigmoid'))"
      ],
      "execution_count": 15,
      "outputs": []
    },
    {
      "cell_type": "markdown",
      "metadata": {
        "id": "JblD65FsRX1G"
      },
      "source": [
        "## **PART 3 - TRAINING THE ANN**"
      ]
    },
    {
      "cell_type": "markdown",
      "metadata": {
        "id": "NxCHL83gRg44"
      },
      "source": [
        "COMPILING THE ANN"
      ]
    },
    {
      "cell_type": "code",
      "metadata": {
        "id": "mdZSl_q5RkD5"
      },
      "source": [
        "ann.compile(optimizer = 'adam', loss = 'binary_crossentropy', metrics = ['accuracy'])"
      ],
      "execution_count": 16,
      "outputs": []
    },
    {
      "cell_type": "markdown",
      "metadata": {
        "id": "xJ7U7rE3Rq56"
      },
      "source": [
        "TRAINING THE ANN ON THE TRAINING SET"
      ]
    },
    {
      "cell_type": "code",
      "metadata": {
        "id": "8DZHs7MdRxFF",
        "outputId": "2f70f477-17e4-4fec-cffc-d59bfe9ab6e0",
        "colab": {
          "base_uri": "https://localhost:8080/"
        }
      },
      "source": [
        "ann.fit(X_train, y_train, batch_size = 32, epochs = 100)"
      ],
      "execution_count": 17,
      "outputs": [
        {
          "output_type": "stream",
          "text": [
            "Epoch 1/100\n",
            "250/250 [==============================] - 0s 1ms/step - loss: 0.5755 - accuracy: 0.7689\n",
            "Epoch 2/100\n",
            "250/250 [==============================] - 0s 1ms/step - loss: 0.4791 - accuracy: 0.7960\n",
            "Epoch 3/100\n",
            "250/250 [==============================] - 0s 1ms/step - loss: 0.4531 - accuracy: 0.7966\n",
            "Epoch 4/100\n",
            "250/250 [==============================] - 0s 1ms/step - loss: 0.4398 - accuracy: 0.8016\n",
            "Epoch 5/100\n",
            "250/250 [==============================] - 0s 1ms/step - loss: 0.4323 - accuracy: 0.8065\n",
            "Epoch 6/100\n",
            "250/250 [==============================] - 0s 1ms/step - loss: 0.4274 - accuracy: 0.8102\n",
            "Epoch 7/100\n",
            "250/250 [==============================] - 0s 1ms/step - loss: 0.4237 - accuracy: 0.8133\n",
            "Epoch 8/100\n",
            "250/250 [==============================] - 0s 1ms/step - loss: 0.4207 - accuracy: 0.8142\n",
            "Epoch 9/100\n",
            "250/250 [==============================] - 0s 1ms/step - loss: 0.4180 - accuracy: 0.8161\n",
            "Epoch 10/100\n",
            "250/250 [==============================] - 0s 1ms/step - loss: 0.4156 - accuracy: 0.8188\n",
            "Epoch 11/100\n",
            "250/250 [==============================] - 0s 1ms/step - loss: 0.4132 - accuracy: 0.8199\n",
            "Epoch 12/100\n",
            "250/250 [==============================] - 0s 1ms/step - loss: 0.4107 - accuracy: 0.8231\n",
            "Epoch 13/100\n",
            "250/250 [==============================] - 0s 981us/step - loss: 0.4077 - accuracy: 0.8267\n",
            "Epoch 14/100\n",
            "250/250 [==============================] - 0s 1ms/step - loss: 0.4042 - accuracy: 0.8291\n",
            "Epoch 15/100\n",
            "250/250 [==============================] - 0s 1ms/step - loss: 0.4009 - accuracy: 0.8316\n",
            "Epoch 16/100\n",
            "250/250 [==============================] - 0s 1ms/step - loss: 0.3979 - accuracy: 0.8306\n",
            "Epoch 17/100\n",
            "250/250 [==============================] - 0s 1ms/step - loss: 0.3944 - accuracy: 0.8319\n",
            "Epoch 18/100\n",
            "250/250 [==============================] - 0s 1ms/step - loss: 0.3911 - accuracy: 0.8315\n",
            "Epoch 19/100\n",
            "250/250 [==============================] - 0s 1ms/step - loss: 0.3882 - accuracy: 0.8336\n",
            "Epoch 20/100\n",
            "250/250 [==============================] - 0s 996us/step - loss: 0.3844 - accuracy: 0.8357\n",
            "Epoch 21/100\n",
            "250/250 [==============================] - 0s 996us/step - loss: 0.3814 - accuracy: 0.8355\n",
            "Epoch 22/100\n",
            "250/250 [==============================] - 0s 1ms/step - loss: 0.3782 - accuracy: 0.8393\n",
            "Epoch 23/100\n",
            "250/250 [==============================] - 0s 964us/step - loss: 0.3747 - accuracy: 0.8410\n",
            "Epoch 24/100\n",
            "250/250 [==============================] - 0s 960us/step - loss: 0.3717 - accuracy: 0.8415\n",
            "Epoch 25/100\n",
            "250/250 [==============================] - 0s 1ms/step - loss: 0.3680 - accuracy: 0.8435\n",
            "Epoch 26/100\n",
            "250/250 [==============================] - 0s 1ms/step - loss: 0.3654 - accuracy: 0.8446\n",
            "Epoch 27/100\n",
            "250/250 [==============================] - 0s 1ms/step - loss: 0.3629 - accuracy: 0.8462\n",
            "Epoch 28/100\n",
            "250/250 [==============================] - 0s 1ms/step - loss: 0.3607 - accuracy: 0.8485\n",
            "Epoch 29/100\n",
            "250/250 [==============================] - 0s 1ms/step - loss: 0.3587 - accuracy: 0.8505\n",
            "Epoch 30/100\n",
            "250/250 [==============================] - 0s 1ms/step - loss: 0.3567 - accuracy: 0.8525\n",
            "Epoch 31/100\n",
            "250/250 [==============================] - 0s 999us/step - loss: 0.3555 - accuracy: 0.8531\n",
            "Epoch 32/100\n",
            "250/250 [==============================] - 0s 1ms/step - loss: 0.3535 - accuracy: 0.8540\n",
            "Epoch 33/100\n",
            "250/250 [==============================] - 0s 1ms/step - loss: 0.3522 - accuracy: 0.8545\n",
            "Epoch 34/100\n",
            "250/250 [==============================] - 0s 1ms/step - loss: 0.3509 - accuracy: 0.8553\n",
            "Epoch 35/100\n",
            "250/250 [==============================] - 0s 1ms/step - loss: 0.3502 - accuracy: 0.8549\n",
            "Epoch 36/100\n",
            "250/250 [==============================] - 0s 1ms/step - loss: 0.3489 - accuracy: 0.8556\n",
            "Epoch 37/100\n",
            "250/250 [==============================] - 0s 1ms/step - loss: 0.3480 - accuracy: 0.8547\n",
            "Epoch 38/100\n",
            "250/250 [==============================] - 0s 968us/step - loss: 0.3472 - accuracy: 0.8571\n",
            "Epoch 39/100\n",
            "250/250 [==============================] - 0s 1ms/step - loss: 0.3467 - accuracy: 0.8575\n",
            "Epoch 40/100\n",
            "250/250 [==============================] - 0s 1ms/step - loss: 0.3461 - accuracy: 0.8572\n",
            "Epoch 41/100\n",
            "250/250 [==============================] - 0s 1ms/step - loss: 0.3453 - accuracy: 0.8580\n",
            "Epoch 42/100\n",
            "250/250 [==============================] - 0s 1000us/step - loss: 0.3449 - accuracy: 0.8580\n",
            "Epoch 43/100\n",
            "250/250 [==============================] - 0s 1ms/step - loss: 0.3445 - accuracy: 0.8594\n",
            "Epoch 44/100\n",
            "250/250 [==============================] - 0s 1ms/step - loss: 0.3435 - accuracy: 0.8591\n",
            "Epoch 45/100\n",
            "250/250 [==============================] - 0s 1ms/step - loss: 0.3433 - accuracy: 0.8589\n",
            "Epoch 46/100\n",
            "250/250 [==============================] - 0s 1ms/step - loss: 0.3430 - accuracy: 0.8606\n",
            "Epoch 47/100\n",
            "250/250 [==============================] - 0s 1ms/step - loss: 0.3425 - accuracy: 0.8604\n",
            "Epoch 48/100\n",
            "250/250 [==============================] - 0s 1ms/step - loss: 0.3421 - accuracy: 0.8610\n",
            "Epoch 49/100\n",
            "250/250 [==============================] - 0s 1ms/step - loss: 0.3419 - accuracy: 0.8601\n",
            "Epoch 50/100\n",
            "250/250 [==============================] - 0s 995us/step - loss: 0.3417 - accuracy: 0.8591\n",
            "Epoch 51/100\n",
            "250/250 [==============================] - 0s 1ms/step - loss: 0.3415 - accuracy: 0.8604\n",
            "Epoch 52/100\n",
            "250/250 [==============================] - 0s 1ms/step - loss: 0.3413 - accuracy: 0.8605\n",
            "Epoch 53/100\n",
            "250/250 [==============================] - 0s 985us/step - loss: 0.3417 - accuracy: 0.8596\n",
            "Epoch 54/100\n",
            "250/250 [==============================] - 0s 1ms/step - loss: 0.3410 - accuracy: 0.8596\n",
            "Epoch 55/100\n",
            "250/250 [==============================] - 0s 1ms/step - loss: 0.3409 - accuracy: 0.8602\n",
            "Epoch 56/100\n",
            "250/250 [==============================] - 0s 996us/step - loss: 0.3401 - accuracy: 0.8591\n",
            "Epoch 57/100\n",
            "250/250 [==============================] - 0s 987us/step - loss: 0.3399 - accuracy: 0.8600\n",
            "Epoch 58/100\n",
            "250/250 [==============================] - 0s 1ms/step - loss: 0.3404 - accuracy: 0.8621\n",
            "Epoch 59/100\n",
            "250/250 [==============================] - 0s 988us/step - loss: 0.3399 - accuracy: 0.8612\n",
            "Epoch 60/100\n",
            "250/250 [==============================] - 0s 1ms/step - loss: 0.3399 - accuracy: 0.8614\n",
            "Epoch 61/100\n",
            "250/250 [==============================] - 0s 1ms/step - loss: 0.3398 - accuracy: 0.8615\n",
            "Epoch 62/100\n",
            "250/250 [==============================] - 0s 1ms/step - loss: 0.3399 - accuracy: 0.8616\n",
            "Epoch 63/100\n",
            "250/250 [==============================] - 0s 1ms/step - loss: 0.3396 - accuracy: 0.8618\n",
            "Epoch 64/100\n",
            "250/250 [==============================] - 0s 999us/step - loss: 0.3399 - accuracy: 0.8618\n",
            "Epoch 65/100\n",
            "250/250 [==============================] - 0s 1ms/step - loss: 0.3393 - accuracy: 0.8610\n",
            "Epoch 66/100\n",
            "250/250 [==============================] - 0s 1ms/step - loss: 0.3396 - accuracy: 0.8615\n",
            "Epoch 67/100\n",
            "250/250 [==============================] - 0s 994us/step - loss: 0.3392 - accuracy: 0.8614\n",
            "Epoch 68/100\n",
            "250/250 [==============================] - 0s 1ms/step - loss: 0.3392 - accuracy: 0.8615\n",
            "Epoch 69/100\n",
            "250/250 [==============================] - 0s 1ms/step - loss: 0.3389 - accuracy: 0.8599\n",
            "Epoch 70/100\n",
            "250/250 [==============================] - 0s 1ms/step - loss: 0.3386 - accuracy: 0.8615\n",
            "Epoch 71/100\n",
            "250/250 [==============================] - 0s 953us/step - loss: 0.3391 - accuracy: 0.8622\n",
            "Epoch 72/100\n",
            "250/250 [==============================] - 0s 1ms/step - loss: 0.3388 - accuracy: 0.8618\n",
            "Epoch 73/100\n",
            "250/250 [==============================] - 0s 1ms/step - loss: 0.3386 - accuracy: 0.8630\n",
            "Epoch 74/100\n",
            "250/250 [==============================] - 0s 968us/step - loss: 0.3386 - accuracy: 0.8635\n",
            "Epoch 75/100\n",
            "250/250 [==============================] - 0s 989us/step - loss: 0.3388 - accuracy: 0.8625\n",
            "Epoch 76/100\n",
            "250/250 [==============================] - 0s 1ms/step - loss: 0.3385 - accuracy: 0.8619\n",
            "Epoch 77/100\n",
            "250/250 [==============================] - 0s 987us/step - loss: 0.3383 - accuracy: 0.8630\n",
            "Epoch 78/100\n",
            "250/250 [==============================] - 0s 953us/step - loss: 0.3386 - accuracy: 0.8615\n",
            "Epoch 79/100\n",
            "250/250 [==============================] - 0s 991us/step - loss: 0.3384 - accuracy: 0.8621\n",
            "Epoch 80/100\n",
            "250/250 [==============================] - 0s 1ms/step - loss: 0.3380 - accuracy: 0.8625\n",
            "Epoch 81/100\n",
            "250/250 [==============================] - 0s 1ms/step - loss: 0.3383 - accuracy: 0.8621\n",
            "Epoch 82/100\n",
            "250/250 [==============================] - 0s 1ms/step - loss: 0.3380 - accuracy: 0.8629\n",
            "Epoch 83/100\n",
            "250/250 [==============================] - 0s 1ms/step - loss: 0.3382 - accuracy: 0.8627\n",
            "Epoch 84/100\n",
            "250/250 [==============================] - 0s 1ms/step - loss: 0.3378 - accuracy: 0.8627\n",
            "Epoch 85/100\n",
            "250/250 [==============================] - 0s 1ms/step - loss: 0.3378 - accuracy: 0.8625\n",
            "Epoch 86/100\n",
            "250/250 [==============================] - 0s 1ms/step - loss: 0.3381 - accuracy: 0.8631\n",
            "Epoch 87/100\n",
            "250/250 [==============================] - 0s 1ms/step - loss: 0.3379 - accuracy: 0.8626\n",
            "Epoch 88/100\n",
            "250/250 [==============================] - 0s 1ms/step - loss: 0.3375 - accuracy: 0.8620\n",
            "Epoch 89/100\n",
            "250/250 [==============================] - 0s 1ms/step - loss: 0.3379 - accuracy: 0.8624\n",
            "Epoch 90/100\n",
            "250/250 [==============================] - 0s 1ms/step - loss: 0.3377 - accuracy: 0.8633\n",
            "Epoch 91/100\n",
            "250/250 [==============================] - 0s 1ms/step - loss: 0.3377 - accuracy: 0.8626\n",
            "Epoch 92/100\n",
            "250/250 [==============================] - 0s 1ms/step - loss: 0.3378 - accuracy: 0.8616\n",
            "Epoch 93/100\n",
            "250/250 [==============================] - 0s 1ms/step - loss: 0.3377 - accuracy: 0.8622\n",
            "Epoch 94/100\n",
            "250/250 [==============================] - 0s 1ms/step - loss: 0.3378 - accuracy: 0.8631\n",
            "Epoch 95/100\n",
            "250/250 [==============================] - 0s 1ms/step - loss: 0.3375 - accuracy: 0.8633\n",
            "Epoch 96/100\n",
            "250/250 [==============================] - 0s 1ms/step - loss: 0.3374 - accuracy: 0.8625\n",
            "Epoch 97/100\n",
            "250/250 [==============================] - 0s 1ms/step - loss: 0.3372 - accuracy: 0.8622\n",
            "Epoch 98/100\n",
            "250/250 [==============================] - 0s 1ms/step - loss: 0.3375 - accuracy: 0.8630\n",
            "Epoch 99/100\n",
            "250/250 [==============================] - 0s 1ms/step - loss: 0.3374 - accuracy: 0.8625\n",
            "Epoch 100/100\n",
            "250/250 [==============================] - 0s 1ms/step - loss: 0.3374 - accuracy: 0.8615\n"
          ],
          "name": "stdout"
        },
        {
          "output_type": "execute_result",
          "data": {
            "text/plain": [
              "<tensorflow.python.keras.callbacks.History at 0x7fc87f143518>"
            ]
          },
          "metadata": {
            "tags": []
          },
          "execution_count": 17
        }
      ]
    },
    {
      "cell_type": "markdown",
      "metadata": {
        "id": "CGeSbJd4SDuD"
      },
      "source": [
        "## **PART 4 - MAKING THE PREDICTIONS AND EVALUATING THE MODEL**"
      ]
    },
    {
      "cell_type": "markdown",
      "metadata": {
        "id": "iKHrMrP6SNlO"
      },
      "source": [
        "PREDICTING THE RESULT OF A SINGLE OBSERVATION"
      ]
    },
    {
      "cell_type": "markdown",
      "metadata": {
        "id": "hnnZuWSSSXgE"
      },
      "source": [
        "Use the ANN model to predict if the customer with the following informations will leave the bank:\n",
        "\n",
        "Geography: Delhi\n",
        "\n",
        "Credit Score: 600\n",
        "\n",
        "Gender: Male\n",
        "\n",
        "Age: 40 years old\n",
        "\n",
        "Tenure: 3 years\n",
        "\n",
        "Balance: $ 60000\n",
        "\n",
        "Number of Products: 2\n",
        "\n",
        "Does this customer have a credit card? Yes\n",
        "\n",
        "Is this customer an Active Member: Yes\n",
        "\n",
        "Estimated Salary: $ 50000\n",
        "\n",
        "So, should we say goodbye to that customer?"
      ]
    },
    {
      "cell_type": "markdown",
      "metadata": {
        "id": "3xR2WAm6SmvL"
      },
      "source": [
        "SOLUTION:"
      ]
    },
    {
      "cell_type": "code",
      "metadata": {
        "id": "Bk3z7yRlSfSQ",
        "outputId": "8719f6ee-3523-4f94-eb16-6eadefb9dddc",
        "colab": {
          "base_uri": "https://localhost:8080/"
        }
      },
      "source": [
        "print(ann.predict(sc.transform([[1, 0, 0, 600, 1, 40, 3, 60000, 2, 1, 1, 50000]])) > 0.5)"
      ],
      "execution_count": 18,
      "outputs": [
        {
          "output_type": "stream",
          "text": [
            "[[False]]\n"
          ],
          "name": "stdout"
        }
      ]
    },
    {
      "cell_type": "markdown",
      "metadata": {
        "id": "9E0TtszsStG0"
      },
      "source": [
        "Therefore, the ANN model predicts that this customer stays in the bank!"
      ]
    },
    {
      "cell_type": "markdown",
      "metadata": {
        "id": "qksDsCBpS1nw"
      },
      "source": [
        "PREDICTING THE TEST SET RESULTS"
      ]
    },
    {
      "cell_type": "code",
      "metadata": {
        "id": "zLdmohw-S9fy",
        "outputId": "3a2bcbf6-3ede-4267-9a0f-efd443639aec",
        "colab": {
          "base_uri": "https://localhost:8080/"
        }
      },
      "source": [
        "y_pred = ann.predict(X_test)\n",
        "y_pred = (y_pred > 0.5)\n",
        "print(np.concatenate((y_pred.reshape(len(y_pred),1), y_test.reshape(len(y_test),1)),1))"
      ],
      "execution_count": 19,
      "outputs": [
        {
          "output_type": "stream",
          "text": [
            "[[0 0]\n",
            " [0 1]\n",
            " [0 0]\n",
            " ...\n",
            " [0 0]\n",
            " [0 0]\n",
            " [0 0]]\n"
          ],
          "name": "stdout"
        }
      ]
    },
    {
      "cell_type": "markdown",
      "metadata": {
        "id": "zxYfDgGwTC9K"
      },
      "source": [
        "MAKING THE CONFUSION MATRIX"
      ]
    },
    {
      "cell_type": "code",
      "metadata": {
        "id": "zcqc59oJTH40",
        "outputId": "b5114707-c609-4a78-881c-0b60c338f806",
        "colab": {
          "base_uri": "https://localhost:8080/"
        }
      },
      "source": [
        "from sklearn.metrics import confusion_matrix, accuracy_score\n",
        "cm = confusion_matrix(y_test, y_pred)\n",
        "print(cm)\n",
        "accuracy_score(y_test, y_pred)"
      ],
      "execution_count": 20,
      "outputs": [
        {
          "output_type": "stream",
          "text": [
            "[[1543   52]\n",
            " [ 221  184]]\n"
          ],
          "name": "stdout"
        },
        {
          "output_type": "execute_result",
          "data": {
            "text/plain": [
              "0.8635"
            ]
          },
          "metadata": {
            "tags": []
          },
          "execution_count": 20
        }
      ]
    }
  ]
}